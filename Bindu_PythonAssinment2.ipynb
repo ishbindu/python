{
 "cells": [
  {
   "cell_type": "code",
   "execution_count": 2,
   "id": "7d0b9b7d",
   "metadata": {},
   "outputs": [],
   "source": [
    "import json\n",
    "import sqlite3 as sq\n",
    "import pandas as pd"
   ]
  },
  {
   "cell_type": "code",
   "execution_count": 3,
   "id": "8af8adbb",
   "metadata": {},
   "outputs": [
    {
     "name": "stdout",
     "output_type": "stream",
     "text": [
      "                                                      students\n",
      "description  demographics, addresses, alerts, phones, schoo...\n",
      "student      [{'id': 2, 'local_id': 3, 'student_username': ...\n"
     ]
    }
   ],
   "source": [
    "with open(\"C:\\\\Users\\himabindu\\Downloads\\student.json\") as student:\n",
    "    data = json.load(student)\n",
    "json=pd.DataFrame(data)\n",
    "print(json)"
   ]
  },
  {
   "cell_type": "code",
   "execution_count": 7,
   "id": "b86d986b",
   "metadata": {},
   "outputs": [
    {
     "name": "stdout",
     "output_type": "stream",
     "text": [
      "                                                      students\n",
      "description  demographics, addresses, alerts, phones, schoo...\n",
      "student      [{'id': 2, 'local_id': 3, 'student_username': ...\n"
     ]
    }
   ],
   "source": [
    "json=pd.DataFrame(data)\n",
    "print(json)"
   ]
  },
  {
   "cell_type": "code",
   "execution_count": 5,
   "id": "9e9bdd6c",
   "metadata": {},
   "outputs": [
    {
     "name": "stdout",
     "output_type": "stream",
     "text": [
      "description    demographics, addresses, alerts, phones, schoo...\n",
      "student        [{'id': 2, 'local_id': 3, 'student_username': ...\n",
      "Name: students, dtype: object\n"
     ]
    }
   ],
   "source": [
    "print(json.students)"
   ]
  },
  {
   "cell_type": "code",
   "execution_count": 30,
   "id": "82805e61",
   "metadata": {},
   "outputs": [
    {
     "name": "stdout",
     "output_type": "stream",
     "text": [
      "[{'id': 2, 'local_id': 3, 'student_username': 'ag1student1', 'name': {'first_name': 'Brandon', 'last_name': 'Adair'}, 'demographics': {'gender': 'M', 'birth_date': '1998-12-13', 'projected_graduation_year': 2016}, 'addresses': {'physical': {'street': '1337 Greymont Ave', 'city': 'Jackson', 'state_province': 'MS', 'postal_code': 39202}, 'mailing': {'street': '1337 Greymont Ave', 'city': 'Jackson', 'state_province': 'MS', 'postal_code': 39202}}, 'alerts': {'legal': {'description': 'Divorced parents only mom should pick up', 'expires_date': 'NEVER_EXPIRES'}, 'discipline': {'description': 'Fighting is a problem', 'expires_date': 'NEVER_EXPIRES'}, 'medical': {'description': 'Allergic to peanuts', 'expires_date': 'NEVER_EXPIRES'}, 'other': {'description': 'Brandon needs to go to study hall during 3rd period.', 'expires_date': 'NEVER_EXPIRES'}}, 'phones': {'main': {'number': '1-555-555-3612'}}, 'school_enrollment': {'enroll_status': 'A', 'enroll_status_description': 'Active', 'enroll_status_code': 0, 'grade_level': 12, 'entry_date': '2015-05-25', 'exit_date': '2016-05-22', 'school_number': 100, 'school_id': 3, 'entry_code': 'A1', 'entry_comment': 'promoted', 'track': 'A', 'full_time_equivalency': {'fteid': 854, 'name': 'Full Time'}}, 'ethnicity_race': {'scheduling_reporting_ethnicity': 'B'}, 'contact': {'emergency_contact_name1': 'Jonathan Mccarthy', 'emergency_phone1': '1-555-555-6049', 'emergency_phone2': '1-555-555-2202', 'guardian_email': 'example217457@marketvolt.com', 'mother': 'Willima Adair', 'father': 'Adam Adair', 'doctor_name': 'Dr. Tom Smith', 'doctor_phone': '1-555-555-2035'}, 'contact_info': {'email': 'Brandon.Adair@powerschool.com'}}, {'id': 3, 'local_id': 4, 'student_username': 'ag1student2', 'name': {'first_name': 'Corby', 'last_name': 'Adams'}, 'demographics': {'gender': 'M', 'birth_date': '2000-10-02', 'district_entry_date': '2014-10-12', 'projected_graduation_year': 2018}, 'addresses': {'physical': {'street': '4658 Norway Dr', 'city': 'Jackson', 'state_province': 'MS', 'postal_code': 39206}, 'mailing': {'street': '4658 Norway Dr', 'city': 'Jackson', 'state_province': 'MS', 'postal_code': 39206}}, 'alerts': {'legal': {'description': 'Lives with family friends', 'expires_date': 'NEVER_EXPIRES'}, 'discipline': {'description': 'Not allowed in Media Center', 'expires_date': 'NEVER_EXPIRES'}, 'medical': {'description': 'Allergic to peanuts', 'expires_date': 'NEVER_EXPIRES'}, 'other': {'description': 'Needs to submit birth certificate to office!', 'expires_date': 'NEVER_EXPIRES'}}, 'phones': {'main': {'number': '1-555-555-2892'}}, 'school_enrollment': {'enroll_status': 'A', 'enroll_status_description': 'Active', 'enroll_status_code': 0, 'grade_level': 10, 'entry_date': '2015-05-25', 'exit_date': '2016-05-22', 'school_number': 100, 'school_id': 3, 'entry_code': 'A1', 'entry_comment': 'promoted', 'full_time_equivalency': {'fteid': 854, 'name': 'Full Time'}}, 'ethnicity_race': {'scheduling_reporting_ethnicity': 'B'}, 'contact': {'emergency_contact_name1': 'Donovan Bowen', 'emergency_phone1': '1-555-555-6052', 'emergency_phone2': '1-555-555-1854', 'guardian_email': 'example143223@marketvolt.com', 'mother': 'Lori Adams', 'father': 'Jacob Adams', 'doctor_name': 'Dr. Barbara Seidl', 'doctor_phone': '1-555-555-3266'}, 'contact_info': {'email': 'Corby.Adams@powerschool.com'}}, {'id': 4, 'local_id': 5, 'student_username': 'ag1student4', 'name': {'first_name': 'Emmy', 'last_name': 'Ahlberg'}, 'demographics': {'gender': 'F', 'birth_date': '2000-11-21', 'district_entry_date': '2014-10-12', 'projected_graduation_year': 2018}, 'addresses': {'physical': {'street': '638 Belvedere Rd', 'city': 'Jackson', 'state_province': 'MS', 'postal_code': 39206, 'grid_location': 'Lat: 32.3573978, Lng: -90.163067'}, 'mailing': {'street': '638 Belvedere Rd', 'city': 'Jackson', 'state_province': 'MS', 'postal_code': 39206}}, 'alerts': {'legal': {'description': 'Lives with family friends', 'expires_date': 'NEVER_EXPIRES'}, 'medical': {'description': 'Spleen injured in Rugby. No sports for six months', 'expires_date': 'NEVER_EXPIRES'}, 'other': {'description': 'Must take bus #4 all week.', 'expires_date': 'NEVER_EXPIRES'}}, 'phones': {'main': {'number': '1-555-555-3558'}}, 'school_enrollment': {'enroll_status': 'A', 'enroll_status_description': 'Active', 'enroll_status_code': 0, 'grade_level': 10, 'entry_date': '2015-05-25', 'exit_date': '2016-05-22', 'school_number': 100, 'school_id': 3, 'entry_code': 'A1', 'entry_comment': 'promoted', 'full_time_equivalency': {'fteid': 854, 'name': 'Full Time'}}, 'ethnicity_race': {'scheduling_reporting_ethnicity': 'B'}, 'contact': {'emergency_contact_name1': 'Nicholas Brannan', 'emergency_phone1': '1-555-555-6055', 'emergency_phone2': '1-555-555-2688', 'guardian_email': 'example80930@marketvolt.com', 'mother': 'Monica Ahlberg', 'father': 'Kevin Ahlberg', 'doctor_name': 'Dr. Barbara Seidl', 'doctor_phone': '1-555-555-2035'}, 'contact_info': {'email': 'Emmy.Ahlberg@powerschool.com'}}, {'id': 5, 'local_id': 6, 'student_username': 'ag1student5', 'name': {'first_name': 'Andy', 'middle_name': 'G', 'last_name': 'Aikinson'}, 'demographics': {'gender': 'M', 'birth_date': '1997-06-27', 'projected_graduation_year': 2016}, 'addresses': {'physical': {'street': '732 Lindsey Dr', 'city': 'Jackson', 'state_province': 'MS', 'postal_code': 39209, 'grid_location': 'Lat: 32.3092896, Lng: -90.2372855'}, 'mailing': {'street': '732 Lindsey Dr', 'city': 'Jackson', 'state_province': 'MS', 'postal_code': 39209}}, 'alerts': {'medical': {'description': 'Allergic to Peanuts', 'expires_date': 'NEVER_EXPIRES'}}, 'phones': {'main': {'number': '1-555-555-3552'}}, 'school_enrollment': {'enroll_status': 'A', 'enroll_status_description': 'Active', 'enroll_status_code': 0, 'grade_level': 12, 'entry_date': '2015-05-25', 'exit_date': '2016-05-22', 'school_number': 100, 'school_id': 3, 'entry_code': 'A1', 'entry_comment': 'promoted', 'full_time_equivalency': {'fteid': 854, 'name': 'Full Time'}}, 'ethnicity_race': {'scheduling_reporting_ethnicity': 'H'}, 'contact': {'emergency_contact_name1': 'Joshua BergStrom', 'emergency_phone1': '1-555-555-2074', 'emergency_phone2': '1-555-555-3770', 'guardian_email': 'example15241@marketvolt.com', 'mother': 'Katie Aiello', 'father': 'Roberto Aiello', 'doctor_name': 'Dr. Barbara Seidl', 'doctor_phone': '1-555-555-4557'}, 'contact_info': {'email': 'Andy.Aikinson@powerschool.com'}}, {'id': 6, 'local_id': 7, 'student_username': 'ag1student6', 'name': {'first_name': 'Scott', 'last_name': 'Alfonso'}, 'demographics': {'gender': 'M', 'birth_date': '1999-11-17', 'projected_graduation_year': 2017}, 'addresses': {'physical': {'street': '246 Sunny Lane Dr', 'city': 'Jackson', 'state_province': 'MS', 'postal_code': 39204, 'grid_location': 'Lat: 32.273518, Lng: -90.2124748'}, 'mailing': {'street': '246 Sunny Lane Dr', 'city': 'Jackson', 'state_province': 'MS', 'postal_code': 39204}}, 'alerts': {'discipline': {'description': 'Uses inappropriate language', 'expires_date': 'NEVER_EXPIRES'}}, 'phones': {'main': {'number': '1-555-555-2569'}}, 'school_enrollment': {'enroll_status': 'A', 'enroll_status_description': 'Active', 'enroll_status_code': 0, 'grade_level': 11, 'entry_date': '2015-05-25', 'exit_date': '2016-05-22', 'school_number': 100, 'school_id': 3, 'entry_code': 'A1', 'entry_comment': 'promoted', 'full_time_equivalency': {'fteid': 854, 'name': 'Full Time'}}, 'ethnicity_race': {'scheduling_reporting_ethnicity': 'C'}, 'contact': {'guardian_email': 'example140401@marketvolt.com', 'mother': 'Christina Allen', 'father': 'Daniel Allen', 'doctor_name': 'Dr. Wendy Jackson, MD', 'doctor_phone': '1-555-555-3266'}, 'contact_info': {'email': 'Scott.Alfonso@powerschool.com'}}, {'id': 7, 'local_id': 8, 'student_username': 'ag1student7', 'name': {'first_name': 'Victor', 'middle_name': 'C', 'last_name': 'Allen'}, 'demographics': {'gender': 'M', 'birth_date': '1999-01-16', 'projected_graduation_year': 2017}, 'addresses': {'physical': {'city': 'Jackson', 'state_province': 'MS', 'postal_code': 39209}, 'mailing': {'street': '1555 Burton St', 'city': 'Jackson', 'state_province': 'MS', 'postal_code': 39209}}, 'alerts': {'legal': {'description': 'Lives with family friends', 'expires_date': 'NEVER_EXPIRES'}, 'medical': {'description': 'Allergic to bee stings', 'expires_date': 'NEVER_EXPIRES'}}, 'phones': {'main': {'number': '1-555-555-3567'}}, 'school_enrollment': {'enroll_status': 'A', 'enroll_status_description': 'Active', 'enroll_status_code': 0, 'grade_level': 11, 'entry_date': '2015-05-25', 'exit_date': '2016-05-22', 'school_number': 100, 'school_id': 3, 'entry_code': 'A1', 'entry_comment': 'promoted', 'full_time_equivalency': {'fteid': 854, 'name': 'Full Time'}}, 'ethnicity_race': {'scheduling_reporting_ethnicity': 'I'}, 'contact': {'emergency_contact_name1': 'Daniel Atwood', 'emergency_phone1': '1-555-555-6237', 'emergency_phone2': '1-555-555-1782', 'guardian_email': 'example205225@marketvolt.com', 'mother': 'Mary Allan', 'father': 'Andrew Allan', 'doctor_name': 'Dr. Robert Watson, MD', 'doctor_phone': '1-555-555-2655'}, 'contact_info': {'email': 'Victor.Allen@powerschool.com'}}]\n"
     ]
    }
   ],
   "source": [
    "print(json.students[1])"
   ]
  },
  {
   "cell_type": "code",
   "execution_count": 6,
   "id": "06171fb3",
   "metadata": {},
   "outputs": [],
   "source": [
    "jstudent=json.students[1]"
   ]
  },
  {
   "cell_type": "code",
   "execution_count": 32,
   "id": "e53c6c6b",
   "metadata": {},
   "outputs": [
    {
     "data": {
      "text/plain": [
       "[{'id': 2,\n",
       "  'local_id': 3,\n",
       "  'student_username': 'ag1student1',\n",
       "  'name': {'first_name': 'Brandon', 'last_name': 'Adair'},\n",
       "  'demographics': {'gender': 'M',\n",
       "   'birth_date': '1998-12-13',\n",
       "   'projected_graduation_year': 2016},\n",
       "  'addresses': {'physical': {'street': '1337 Greymont Ave',\n",
       "    'city': 'Jackson',\n",
       "    'state_province': 'MS',\n",
       "    'postal_code': 39202},\n",
       "   'mailing': {'street': '1337 Greymont Ave',\n",
       "    'city': 'Jackson',\n",
       "    'state_province': 'MS',\n",
       "    'postal_code': 39202}},\n",
       "  'alerts': {'legal': {'description': 'Divorced parents only mom should pick up',\n",
       "    'expires_date': 'NEVER_EXPIRES'},\n",
       "   'discipline': {'description': 'Fighting is a problem',\n",
       "    'expires_date': 'NEVER_EXPIRES'},\n",
       "   'medical': {'description': 'Allergic to peanuts',\n",
       "    'expires_date': 'NEVER_EXPIRES'},\n",
       "   'other': {'description': 'Brandon needs to go to study hall during 3rd period.',\n",
       "    'expires_date': 'NEVER_EXPIRES'}},\n",
       "  'phones': {'main': {'number': '1-555-555-3612'}},\n",
       "  'school_enrollment': {'enroll_status': 'A',\n",
       "   'enroll_status_description': 'Active',\n",
       "   'enroll_status_code': 0,\n",
       "   'grade_level': 12,\n",
       "   'entry_date': '2015-05-25',\n",
       "   'exit_date': '2016-05-22',\n",
       "   'school_number': 100,\n",
       "   'school_id': 3,\n",
       "   'entry_code': 'A1',\n",
       "   'entry_comment': 'promoted',\n",
       "   'track': 'A',\n",
       "   'full_time_equivalency': {'fteid': 854, 'name': 'Full Time'}},\n",
       "  'ethnicity_race': {'scheduling_reporting_ethnicity': 'B'},\n",
       "  'contact': {'emergency_contact_name1': 'Jonathan Mccarthy',\n",
       "   'emergency_phone1': '1-555-555-6049',\n",
       "   'emergency_phone2': '1-555-555-2202',\n",
       "   'guardian_email': 'example217457@marketvolt.com',\n",
       "   'mother': 'Willima Adair',\n",
       "   'father': 'Adam Adair',\n",
       "   'doctor_name': 'Dr. Tom Smith',\n",
       "   'doctor_phone': '1-555-555-2035'},\n",
       "  'contact_info': {'email': 'Brandon.Adair@powerschool.com'}},\n",
       " {'id': 3,\n",
       "  'local_id': 4,\n",
       "  'student_username': 'ag1student2',\n",
       "  'name': {'first_name': 'Corby', 'last_name': 'Adams'},\n",
       "  'demographics': {'gender': 'M',\n",
       "   'birth_date': '2000-10-02',\n",
       "   'district_entry_date': '2014-10-12',\n",
       "   'projected_graduation_year': 2018},\n",
       "  'addresses': {'physical': {'street': '4658 Norway Dr',\n",
       "    'city': 'Jackson',\n",
       "    'state_province': 'MS',\n",
       "    'postal_code': 39206},\n",
       "   'mailing': {'street': '4658 Norway Dr',\n",
       "    'city': 'Jackson',\n",
       "    'state_province': 'MS',\n",
       "    'postal_code': 39206}},\n",
       "  'alerts': {'legal': {'description': 'Lives with family friends',\n",
       "    'expires_date': 'NEVER_EXPIRES'},\n",
       "   'discipline': {'description': 'Not allowed in Media Center',\n",
       "    'expires_date': 'NEVER_EXPIRES'},\n",
       "   'medical': {'description': 'Allergic to peanuts',\n",
       "    'expires_date': 'NEVER_EXPIRES'},\n",
       "   'other': {'description': 'Needs to submit birth certificate to office!',\n",
       "    'expires_date': 'NEVER_EXPIRES'}},\n",
       "  'phones': {'main': {'number': '1-555-555-2892'}},\n",
       "  'school_enrollment': {'enroll_status': 'A',\n",
       "   'enroll_status_description': 'Active',\n",
       "   'enroll_status_code': 0,\n",
       "   'grade_level': 10,\n",
       "   'entry_date': '2015-05-25',\n",
       "   'exit_date': '2016-05-22',\n",
       "   'school_number': 100,\n",
       "   'school_id': 3,\n",
       "   'entry_code': 'A1',\n",
       "   'entry_comment': 'promoted',\n",
       "   'full_time_equivalency': {'fteid': 854, 'name': 'Full Time'}},\n",
       "  'ethnicity_race': {'scheduling_reporting_ethnicity': 'B'},\n",
       "  'contact': {'emergency_contact_name1': 'Donovan Bowen',\n",
       "   'emergency_phone1': '1-555-555-6052',\n",
       "   'emergency_phone2': '1-555-555-1854',\n",
       "   'guardian_email': 'example143223@marketvolt.com',\n",
       "   'mother': 'Lori Adams',\n",
       "   'father': 'Jacob Adams',\n",
       "   'doctor_name': 'Dr. Barbara Seidl',\n",
       "   'doctor_phone': '1-555-555-3266'},\n",
       "  'contact_info': {'email': 'Corby.Adams@powerschool.com'}},\n",
       " {'id': 4,\n",
       "  'local_id': 5,\n",
       "  'student_username': 'ag1student4',\n",
       "  'name': {'first_name': 'Emmy', 'last_name': 'Ahlberg'},\n",
       "  'demographics': {'gender': 'F',\n",
       "   'birth_date': '2000-11-21',\n",
       "   'district_entry_date': '2014-10-12',\n",
       "   'projected_graduation_year': 2018},\n",
       "  'addresses': {'physical': {'street': '638 Belvedere Rd',\n",
       "    'city': 'Jackson',\n",
       "    'state_province': 'MS',\n",
       "    'postal_code': 39206,\n",
       "    'grid_location': 'Lat: 32.3573978, Lng: -90.163067'},\n",
       "   'mailing': {'street': '638 Belvedere Rd',\n",
       "    'city': 'Jackson',\n",
       "    'state_province': 'MS',\n",
       "    'postal_code': 39206}},\n",
       "  'alerts': {'legal': {'description': 'Lives with family friends',\n",
       "    'expires_date': 'NEVER_EXPIRES'},\n",
       "   'medical': {'description': 'Spleen injured in Rugby. No sports for six months',\n",
       "    'expires_date': 'NEVER_EXPIRES'},\n",
       "   'other': {'description': 'Must take bus #4 all week.',\n",
       "    'expires_date': 'NEVER_EXPIRES'}},\n",
       "  'phones': {'main': {'number': '1-555-555-3558'}},\n",
       "  'school_enrollment': {'enroll_status': 'A',\n",
       "   'enroll_status_description': 'Active',\n",
       "   'enroll_status_code': 0,\n",
       "   'grade_level': 10,\n",
       "   'entry_date': '2015-05-25',\n",
       "   'exit_date': '2016-05-22',\n",
       "   'school_number': 100,\n",
       "   'school_id': 3,\n",
       "   'entry_code': 'A1',\n",
       "   'entry_comment': 'promoted',\n",
       "   'full_time_equivalency': {'fteid': 854, 'name': 'Full Time'}},\n",
       "  'ethnicity_race': {'scheduling_reporting_ethnicity': 'B'},\n",
       "  'contact': {'emergency_contact_name1': 'Nicholas Brannan',\n",
       "   'emergency_phone1': '1-555-555-6055',\n",
       "   'emergency_phone2': '1-555-555-2688',\n",
       "   'guardian_email': 'example80930@marketvolt.com',\n",
       "   'mother': 'Monica Ahlberg',\n",
       "   'father': 'Kevin Ahlberg',\n",
       "   'doctor_name': 'Dr. Barbara Seidl',\n",
       "   'doctor_phone': '1-555-555-2035'},\n",
       "  'contact_info': {'email': 'Emmy.Ahlberg@powerschool.com'}},\n",
       " {'id': 5,\n",
       "  'local_id': 6,\n",
       "  'student_username': 'ag1student5',\n",
       "  'name': {'first_name': 'Andy', 'middle_name': 'G', 'last_name': 'Aikinson'},\n",
       "  'demographics': {'gender': 'M',\n",
       "   'birth_date': '1997-06-27',\n",
       "   'projected_graduation_year': 2016},\n",
       "  'addresses': {'physical': {'street': '732 Lindsey Dr',\n",
       "    'city': 'Jackson',\n",
       "    'state_province': 'MS',\n",
       "    'postal_code': 39209,\n",
       "    'grid_location': 'Lat: 32.3092896, Lng: -90.2372855'},\n",
       "   'mailing': {'street': '732 Lindsey Dr',\n",
       "    'city': 'Jackson',\n",
       "    'state_province': 'MS',\n",
       "    'postal_code': 39209}},\n",
       "  'alerts': {'medical': {'description': 'Allergic to Peanuts',\n",
       "    'expires_date': 'NEVER_EXPIRES'}},\n",
       "  'phones': {'main': {'number': '1-555-555-3552'}},\n",
       "  'school_enrollment': {'enroll_status': 'A',\n",
       "   'enroll_status_description': 'Active',\n",
       "   'enroll_status_code': 0,\n",
       "   'grade_level': 12,\n",
       "   'entry_date': '2015-05-25',\n",
       "   'exit_date': '2016-05-22',\n",
       "   'school_number': 100,\n",
       "   'school_id': 3,\n",
       "   'entry_code': 'A1',\n",
       "   'entry_comment': 'promoted',\n",
       "   'full_time_equivalency': {'fteid': 854, 'name': 'Full Time'}},\n",
       "  'ethnicity_race': {'scheduling_reporting_ethnicity': 'H'},\n",
       "  'contact': {'emergency_contact_name1': 'Joshua BergStrom',\n",
       "   'emergency_phone1': '1-555-555-2074',\n",
       "   'emergency_phone2': '1-555-555-3770',\n",
       "   'guardian_email': 'example15241@marketvolt.com',\n",
       "   'mother': 'Katie Aiello',\n",
       "   'father': 'Roberto Aiello',\n",
       "   'doctor_name': 'Dr. Barbara Seidl',\n",
       "   'doctor_phone': '1-555-555-4557'},\n",
       "  'contact_info': {'email': 'Andy.Aikinson@powerschool.com'}},\n",
       " {'id': 6,\n",
       "  'local_id': 7,\n",
       "  'student_username': 'ag1student6',\n",
       "  'name': {'first_name': 'Scott', 'last_name': 'Alfonso'},\n",
       "  'demographics': {'gender': 'M',\n",
       "   'birth_date': '1999-11-17',\n",
       "   'projected_graduation_year': 2017},\n",
       "  'addresses': {'physical': {'street': '246 Sunny Lane Dr',\n",
       "    'city': 'Jackson',\n",
       "    'state_province': 'MS',\n",
       "    'postal_code': 39204,\n",
       "    'grid_location': 'Lat: 32.273518, Lng: -90.2124748'},\n",
       "   'mailing': {'street': '246 Sunny Lane Dr',\n",
       "    'city': 'Jackson',\n",
       "    'state_province': 'MS',\n",
       "    'postal_code': 39204}},\n",
       "  'alerts': {'discipline': {'description': 'Uses inappropriate language',\n",
       "    'expires_date': 'NEVER_EXPIRES'}},\n",
       "  'phones': {'main': {'number': '1-555-555-2569'}},\n",
       "  'school_enrollment': {'enroll_status': 'A',\n",
       "   'enroll_status_description': 'Active',\n",
       "   'enroll_status_code': 0,\n",
       "   'grade_level': 11,\n",
       "   'entry_date': '2015-05-25',\n",
       "   'exit_date': '2016-05-22',\n",
       "   'school_number': 100,\n",
       "   'school_id': 3,\n",
       "   'entry_code': 'A1',\n",
       "   'entry_comment': 'promoted',\n",
       "   'full_time_equivalency': {'fteid': 854, 'name': 'Full Time'}},\n",
       "  'ethnicity_race': {'scheduling_reporting_ethnicity': 'C'},\n",
       "  'contact': {'guardian_email': 'example140401@marketvolt.com',\n",
       "   'mother': 'Christina Allen',\n",
       "   'father': 'Daniel Allen',\n",
       "   'doctor_name': 'Dr. Wendy Jackson, MD',\n",
       "   'doctor_phone': '1-555-555-3266'},\n",
       "  'contact_info': {'email': 'Scott.Alfonso@powerschool.com'}},\n",
       " {'id': 7,\n",
       "  'local_id': 8,\n",
       "  'student_username': 'ag1student7',\n",
       "  'name': {'first_name': 'Victor', 'middle_name': 'C', 'last_name': 'Allen'},\n",
       "  'demographics': {'gender': 'M',\n",
       "   'birth_date': '1999-01-16',\n",
       "   'projected_graduation_year': 2017},\n",
       "  'addresses': {'physical': {'city': 'Jackson',\n",
       "    'state_province': 'MS',\n",
       "    'postal_code': 39209},\n",
       "   'mailing': {'street': '1555 Burton St',\n",
       "    'city': 'Jackson',\n",
       "    'state_province': 'MS',\n",
       "    'postal_code': 39209}},\n",
       "  'alerts': {'legal': {'description': 'Lives with family friends',\n",
       "    'expires_date': 'NEVER_EXPIRES'},\n",
       "   'medical': {'description': 'Allergic to bee stings',\n",
       "    'expires_date': 'NEVER_EXPIRES'}},\n",
       "  'phones': {'main': {'number': '1-555-555-3567'}},\n",
       "  'school_enrollment': {'enroll_status': 'A',\n",
       "   'enroll_status_description': 'Active',\n",
       "   'enroll_status_code': 0,\n",
       "   'grade_level': 11,\n",
       "   'entry_date': '2015-05-25',\n",
       "   'exit_date': '2016-05-22',\n",
       "   'school_number': 100,\n",
       "   'school_id': 3,\n",
       "   'entry_code': 'A1',\n",
       "   'entry_comment': 'promoted',\n",
       "   'full_time_equivalency': {'fteid': 854, 'name': 'Full Time'}},\n",
       "  'ethnicity_race': {'scheduling_reporting_ethnicity': 'I'},\n",
       "  'contact': {'emergency_contact_name1': 'Daniel Atwood',\n",
       "   'emergency_phone1': '1-555-555-6237',\n",
       "   'emergency_phone2': '1-555-555-1782',\n",
       "   'guardian_email': 'example205225@marketvolt.com',\n",
       "   'mother': 'Mary Allan',\n",
       "   'father': 'Andrew Allan',\n",
       "   'doctor_name': 'Dr. Robert Watson, MD',\n",
       "   'doctor_phone': '1-555-555-2655'},\n",
       "  'contact_info': {'email': 'Victor.Allen@powerschool.com'}}]"
      ]
     },
     "execution_count": 32,
     "metadata": {},
     "output_type": "execute_result"
    }
   ],
   "source": [
    "jstudent"
   ]
  },
  {
   "cell_type": "code",
   "execution_count": 33,
   "id": "a8615f48",
   "metadata": {},
   "outputs": [
    {
     "data": {
      "text/plain": [
       "2"
      ]
     },
     "execution_count": 33,
     "metadata": {},
     "output_type": "execute_result"
    }
   ],
   "source": [
    "jstudent[0]['id']\n",
    "    "
   ]
  },
  {
   "cell_type": "code",
   "execution_count": 34,
   "id": "0676071a",
   "metadata": {},
   "outputs": [
    {
     "data": {
      "text/plain": [
       "6"
      ]
     },
     "execution_count": 34,
     "metadata": {},
     "output_type": "execute_result"
    }
   ],
   "source": [
    "len(jstudent)"
   ]
  },
  {
   "cell_type": "code",
   "execution_count": null,
   "id": "108f0aa5",
   "metadata": {},
   "outputs": [],
   "source": [
    "db=sq.connect('C:\\\\Users\\himabindu\\Desktop\\py2\\student.db')"
   ]
  },
  {
   "cell_type": "code",
   "execution_count": null,
   "id": "252e6fd8",
   "metadata": {},
   "outputs": [],
   "source": [
    "print(db)"
   ]
  },
  {
   "cell_type": "code",
   "execution_count": 36,
   "id": "0abd26a3",
   "metadata": {},
   "outputs": [],
   "source": [
    "cursor = db.cursor()"
   ]
  },
  {
   "cell_type": "code",
   "execution_count": 37,
   "id": "f11ec36a",
   "metadata": {},
   "outputs": [
    {
     "data": {
      "text/plain": [
       "<sqlite3.Cursor at 0x1ebc20782d0>"
      ]
     },
     "execution_count": 37,
     "metadata": {},
     "output_type": "execute_result"
    }
   ],
   "source": [
    "cursor"
   ]
  },
  {
   "cell_type": "code",
   "execution_count": 39,
   "id": "c645d830",
   "metadata": {},
   "outputs": [
    {
     "data": {
      "text/plain": [
       "<sqlite3.Cursor at 0x1ebc20782d0>"
      ]
     },
     "execution_count": 39,
     "metadata": {},
     "output_type": "execute_result"
    }
   ],
   "source": [
    "cursor.execute('''create table if not exists student_master (student_id number, student_logical_id number , student_username text, first_name text, last_name text);''')"
   ]
  },
  {
   "cell_type": "code",
   "execution_count": 16,
   "id": "881cfca6",
   "metadata": {},
   "outputs": [],
   "source": [
    "db.commit()"
   ]
  },
  {
   "cell_type": "code",
   "execution_count": 40,
   "id": "da4ebdef",
   "metadata": {},
   "outputs": [],
   "source": [
    "import json\n",
    "for i in range(len(jstudent)):\n",
    "    cursor.execute('insert into student_master values(?,?,?,?,?)',(jstudent[i]['id'],jstudent[i]['local_id'],jstudent[i]['student_username'],jstudent[i]['name']['first_name'],jstudent[i]['name']['last_name']))"
   ]
  },
  {
   "cell_type": "code",
   "execution_count": 148,
   "id": "80d832bf",
   "metadata": {},
   "outputs": [
    {
     "name": "stdout",
     "output_type": "stream",
     "text": [
      "2 3 ag1student1 Brandon Adair\n",
      "3 4 ag1student2 Corby Adams\n",
      "4 5 ag1student4 Emmy Ahlberg\n",
      "5 6 ag1student5 Andy Aikinson\n",
      "6 7 ag1student6 Scott Alfonso\n",
      "7 8 ag1student7 Victor Allen\n"
     ]
    }
   ],
   "source": [
    "import json\n",
    "for i in range(len(jstudent)):\n",
    "    print(jstudent[i]['id'],jstudent[i]['local_id'],jstudent[i]['student_username'],jstudent[i]['name']['first_name'],jstudent[i]['name']['last_name'])"
   ]
  },
  {
   "cell_type": "code",
   "execution_count": 95,
   "id": "0d8f5831",
   "metadata": {},
   "outputs": [
    {
     "name": "stdout",
     "output_type": "stream",
     "text": [
      "Brandon\n",
      "Corby\n",
      "Emmy\n",
      "Andy\n",
      "Scott\n",
      "Victor\n"
     ]
    }
   ],
   "source": [
    "for i in range(len(jstudent)):\n",
    "             print(jstudent[i]['name']['first_name'])"
   ]
  },
  {
   "cell_type": "code",
   "execution_count": 41,
   "id": "12de95fb",
   "metadata": {},
   "outputs": [
    {
     "data": {
      "text/plain": [
       "[(2, 3, 'ag1student1', 'Brandon', 'Adair'),\n",
       " (3, 4, 'ag1student2', 'Corby', 'Adams'),\n",
       " (4, 5, 'ag1student4', 'Emmy', 'Ahlberg'),\n",
       " (5, 6, 'ag1student5', 'Andy', 'Aikinson'),\n",
       " (6, 7, 'ag1student6', 'Scott', 'Alfonso'),\n",
       " (7, 8, 'ag1student7', 'Victor', 'Allen')]"
      ]
     },
     "execution_count": 41,
     "metadata": {},
     "output_type": "execute_result"
    }
   ],
   "source": [
    "#fetchin data from student_master table\n",
    "cursor.execute('''select * from student_master;''').fetchall()"
   ]
  },
  {
   "cell_type": "code",
   "execution_count": 42,
   "id": "bd050c6e",
   "metadata": {},
   "outputs": [
    {
     "data": {
      "text/plain": [
       "<sqlite3.Cursor at 0x1ebc20782d0>"
      ]
     },
     "execution_count": 42,
     "metadata": {},
     "output_type": "execute_result"
    }
   ],
   "source": [
    "cursor.execute('''create table if not exists demographics_master (student_id number, gender text, birth_date date,projected_graduation_year number);''')"
   ]
  },
  {
   "cell_type": "code",
   "execution_count": 46,
   "id": "027c8df3",
   "metadata": {},
   "outputs": [
    {
     "name": "stdout",
     "output_type": "stream",
     "text": [
      "2 M 1998-12-13 2016\n",
      "3 M 2000-10-02 2018\n",
      "4 F 2000-11-21 2018\n",
      "5 M 1997-06-27 2016\n",
      "6 M 1999-11-17 2017\n",
      "7 M 1999-01-16 2017\n"
     ]
    }
   ],
   "source": [
    "import json\n",
    "for i in range(len(jstudent)):\n",
    "    print(jstudent[i]['id'],jstudent[i]['demographics']['gender'],jstudent[i]['demographics']['birth_date'],jstudent[i]['demographics']['projected_graduation_year'])"
   ]
  },
  {
   "cell_type": "code",
   "execution_count": 47,
   "id": "6c116b84",
   "metadata": {},
   "outputs": [],
   "source": [
    "import json\n",
    "for i in range(len(jstudent)):\n",
    "    cursor.execute('insert into demographics_master values(?,?,?,?)',(jstudent[i]['id'],jstudent[i]['demographics']['gender'],jstudent[i]['demographics']['birth_date'],jstudent[i]['demographics']['projected_graduation_year']))"
   ]
  },
  {
   "cell_type": "code",
   "execution_count": 48,
   "id": "d5d0d59e",
   "metadata": {},
   "outputs": [
    {
     "data": {
      "text/plain": [
       "[(2, 'M', '1998-12-13', 2016),\n",
       " (3, 'M', '2000-10-02', 2018),\n",
       " (4, 'F', '2000-11-21', 2018),\n",
       " (5, 'M', '1997-06-27', 2016),\n",
       " (6, 'M', '1999-11-17', 2017),\n",
       " (7, 'M', '1999-01-16', 2017)]"
      ]
     },
     "execution_count": 48,
     "metadata": {},
     "output_type": "execute_result"
    }
   ],
   "source": [
    "#fetchin data from demographics_master table.\n",
    "cursor.execute('''select * from demographics_master;''').fetchall()"
   ]
  },
  {
   "cell_type": "code",
   "execution_count": 49,
   "id": "f90e79e1",
   "metadata": {},
   "outputs": [
    {
     "data": {
      "text/plain": [
       "<sqlite3.Cursor at 0x1ebc20782d0>"
      ]
     },
     "execution_count": 49,
     "metadata": {},
     "output_type": "execute_result"
    }
   ],
   "source": [
    "cursor.execute('''create table if not exists address_master (student_id number,street varchar2,city text, state_province text, postal_code number);''')"
   ]
  },
  {
   "cell_type": "code",
   "execution_count": 55,
   "id": "96793797",
   "metadata": {},
   "outputs": [
    {
     "name": "stdout",
     "output_type": "stream",
     "text": [
      "2 1337 Greymont Ave Jackson MS 39202\n",
      "3 4658 Norway Dr Jackson MS 39206\n",
      "4 638 Belvedere Rd Jackson MS 39206\n",
      "5 732 Lindsey Dr Jackson MS 39209\n",
      "6 246 Sunny Lane Dr Jackson MS 39204\n"
     ]
    },
    {
     "ename": "KeyError",
     "evalue": "'street'",
     "output_type": "error",
     "traceback": [
      "\u001b[1;31m---------------------------------------------------------------------------\u001b[0m",
      "\u001b[1;31mKeyError\u001b[0m                                  Traceback (most recent call last)",
      "\u001b[1;32mC:\\Users\\HIMABI~1\\AppData\\Local\\Temp/ipykernel_4456/357990483.py\u001b[0m in \u001b[0;36m<module>\u001b[1;34m\u001b[0m\n\u001b[0;32m      1\u001b[0m \u001b[1;32mimport\u001b[0m \u001b[0mjson\u001b[0m\u001b[1;33m\u001b[0m\u001b[1;33m\u001b[0m\u001b[0m\n\u001b[0;32m      2\u001b[0m \u001b[1;32mfor\u001b[0m \u001b[0mi\u001b[0m \u001b[1;32min\u001b[0m \u001b[0mrange\u001b[0m\u001b[1;33m(\u001b[0m\u001b[0mlen\u001b[0m\u001b[1;33m(\u001b[0m\u001b[0mjstudent\u001b[0m\u001b[1;33m)\u001b[0m\u001b[1;33m)\u001b[0m\u001b[1;33m:\u001b[0m\u001b[1;33m\u001b[0m\u001b[1;33m\u001b[0m\u001b[0m\n\u001b[1;32m----> 3\u001b[1;33m     \u001b[0mprint\u001b[0m\u001b[1;33m(\u001b[0m\u001b[0mjstudent\u001b[0m\u001b[1;33m[\u001b[0m\u001b[0mi\u001b[0m\u001b[1;33m]\u001b[0m\u001b[1;33m[\u001b[0m\u001b[1;34m'id'\u001b[0m\u001b[1;33m]\u001b[0m\u001b[1;33m,\u001b[0m\u001b[0mjstudent\u001b[0m\u001b[1;33m[\u001b[0m\u001b[0mi\u001b[0m\u001b[1;33m]\u001b[0m\u001b[1;33m[\u001b[0m\u001b[1;34m'addresses'\u001b[0m\u001b[1;33m]\u001b[0m\u001b[1;33m[\u001b[0m\u001b[1;34m'physical'\u001b[0m\u001b[1;33m]\u001b[0m\u001b[1;33m[\u001b[0m\u001b[1;34m'street'\u001b[0m\u001b[1;33m]\u001b[0m\u001b[1;33m,\u001b[0m\u001b[0mjstudent\u001b[0m\u001b[1;33m[\u001b[0m\u001b[0mi\u001b[0m\u001b[1;33m]\u001b[0m\u001b[1;33m[\u001b[0m\u001b[1;34m'addresses'\u001b[0m\u001b[1;33m]\u001b[0m\u001b[1;33m[\u001b[0m\u001b[1;34m'physical'\u001b[0m\u001b[1;33m]\u001b[0m\u001b[1;33m[\u001b[0m\u001b[1;34m'city'\u001b[0m\u001b[1;33m]\u001b[0m\u001b[1;33m,\u001b[0m\u001b[0mjstudent\u001b[0m\u001b[1;33m[\u001b[0m\u001b[0mi\u001b[0m\u001b[1;33m]\u001b[0m\u001b[1;33m[\u001b[0m\u001b[1;34m'addresses'\u001b[0m\u001b[1;33m]\u001b[0m\u001b[1;33m[\u001b[0m\u001b[1;34m'physical'\u001b[0m\u001b[1;33m]\u001b[0m\u001b[1;33m[\u001b[0m\u001b[1;34m'state_province'\u001b[0m\u001b[1;33m]\u001b[0m\u001b[1;33m,\u001b[0m\u001b[0mjstudent\u001b[0m\u001b[1;33m[\u001b[0m\u001b[0mi\u001b[0m\u001b[1;33m]\u001b[0m\u001b[1;33m[\u001b[0m\u001b[1;34m'addresses'\u001b[0m\u001b[1;33m]\u001b[0m\u001b[1;33m[\u001b[0m\u001b[1;34m'physical'\u001b[0m\u001b[1;33m]\u001b[0m\u001b[1;33m[\u001b[0m\u001b[1;34m'postal_code'\u001b[0m\u001b[1;33m]\u001b[0m\u001b[1;33m)\u001b[0m\u001b[1;33m\u001b[0m\u001b[1;33m\u001b[0m\u001b[0m\n\u001b[0m",
      "\u001b[1;31mKeyError\u001b[0m: 'street'"
     ]
    }
   ],
   "source": [
    "import json\n",
    "for i in range(len(jstudent)):\n",
    "    print(jstudent[i]['id'],jstudent[i]['addresses']['physical']['street'],jstudent[i]['addresses']['physical']['city'],jstudent[i]['addresses']['physical']['state_province'],jstudent[i]['addresses']['physical']['postal_code'])"
   ]
  },
  {
   "cell_type": "code",
   "execution_count": 58,
   "id": "5ed9d43d",
   "metadata": {},
   "outputs": [
    {
     "ename": "KeyError",
     "evalue": "'street'",
     "output_type": "error",
     "traceback": [
      "\u001b[1;31m---------------------------------------------------------------------------\u001b[0m",
      "\u001b[1;31mKeyError\u001b[0m                                  Traceback (most recent call last)",
      "\u001b[1;32mC:\\Users\\HIMABI~1\\AppData\\Local\\Temp/ipykernel_4456/1868909528.py\u001b[0m in \u001b[0;36m<module>\u001b[1;34m\u001b[0m\n\u001b[0;32m      1\u001b[0m \u001b[1;32mimport\u001b[0m \u001b[0mjson\u001b[0m\u001b[1;33m\u001b[0m\u001b[1;33m\u001b[0m\u001b[0m\n\u001b[0;32m      2\u001b[0m \u001b[1;32mfor\u001b[0m \u001b[0mi\u001b[0m \u001b[1;32min\u001b[0m \u001b[0mrange\u001b[0m\u001b[1;33m(\u001b[0m\u001b[0mlen\u001b[0m\u001b[1;33m(\u001b[0m\u001b[0mjstudent\u001b[0m\u001b[1;33m)\u001b[0m\u001b[1;33m)\u001b[0m\u001b[1;33m:\u001b[0m\u001b[1;33m\u001b[0m\u001b[1;33m\u001b[0m\u001b[0m\n\u001b[1;32m----> 3\u001b[1;33m     \u001b[0mcursor\u001b[0m\u001b[1;33m.\u001b[0m\u001b[0mexecute\u001b[0m\u001b[1;33m(\u001b[0m\u001b[1;34m'insert into address_master values(?,?,?,?,?)'\u001b[0m\u001b[1;33m,\u001b[0m\u001b[1;33m(\u001b[0m\u001b[0mjstudent\u001b[0m\u001b[1;33m[\u001b[0m\u001b[0mi\u001b[0m\u001b[1;33m]\u001b[0m\u001b[1;33m[\u001b[0m\u001b[1;34m'id'\u001b[0m\u001b[1;33m]\u001b[0m\u001b[1;33m,\u001b[0m\u001b[0mjstudent\u001b[0m\u001b[1;33m[\u001b[0m\u001b[0mi\u001b[0m\u001b[1;33m]\u001b[0m\u001b[1;33m[\u001b[0m\u001b[1;34m'addresses'\u001b[0m\u001b[1;33m]\u001b[0m\u001b[1;33m[\u001b[0m\u001b[1;34m'physical'\u001b[0m\u001b[1;33m]\u001b[0m\u001b[1;33m[\u001b[0m\u001b[1;34m'street'\u001b[0m\u001b[1;33m]\u001b[0m\u001b[1;33m,\u001b[0m\u001b[0mjstudent\u001b[0m\u001b[1;33m[\u001b[0m\u001b[0mi\u001b[0m\u001b[1;33m]\u001b[0m\u001b[1;33m[\u001b[0m\u001b[1;34m'addresses'\u001b[0m\u001b[1;33m]\u001b[0m\u001b[1;33m[\u001b[0m\u001b[1;34m'physical'\u001b[0m\u001b[1;33m]\u001b[0m\u001b[1;33m[\u001b[0m\u001b[1;34m'city'\u001b[0m\u001b[1;33m]\u001b[0m\u001b[1;33m,\u001b[0m\u001b[0mjstudent\u001b[0m\u001b[1;33m[\u001b[0m\u001b[0mi\u001b[0m\u001b[1;33m]\u001b[0m\u001b[1;33m[\u001b[0m\u001b[1;34m'addresses'\u001b[0m\u001b[1;33m]\u001b[0m\u001b[1;33m[\u001b[0m\u001b[1;34m'physical'\u001b[0m\u001b[1;33m]\u001b[0m\u001b[1;33m[\u001b[0m\u001b[1;34m'state_province'\u001b[0m\u001b[1;33m]\u001b[0m\u001b[1;33m,\u001b[0m\u001b[0mjstudent\u001b[0m\u001b[1;33m[\u001b[0m\u001b[0mi\u001b[0m\u001b[1;33m]\u001b[0m\u001b[1;33m[\u001b[0m\u001b[1;34m'addresses'\u001b[0m\u001b[1;33m]\u001b[0m\u001b[1;33m[\u001b[0m\u001b[1;34m'physical'\u001b[0m\u001b[1;33m]\u001b[0m\u001b[1;33m[\u001b[0m\u001b[1;34m'postal_code'\u001b[0m\u001b[1;33m]\u001b[0m\u001b[1;33m)\u001b[0m\u001b[1;33m)\u001b[0m\u001b[1;33m\u001b[0m\u001b[1;33m\u001b[0m\u001b[0m\n\u001b[0m",
      "\u001b[1;31mKeyError\u001b[0m: 'street'"
     ]
    }
   ],
   "source": [
    "import json\n",
    "for i in range(len(jstudent)):\n",
    "    cursor.execute('insert into address_master values(?,?,?,?,?)',(jstudent[i]['id'],jstudent[i]['addresses']['physical']['street'],jstudent[i]['addresses']['physical']['city'],jstudent[i]['addresses']['physical']['state_province'],jstudent[i]['addresses']['physical']['postal_code']))"
   ]
  },
  {
   "cell_type": "code",
   "execution_count": 59,
   "id": "ba9c3ded",
   "metadata": {},
   "outputs": [
    {
     "data": {
      "text/plain": [
       "[(2, '1337 Greymont Ave', 'Jackson', 'MS', 39202),\n",
       " (3, '4658 Norway Dr', 'Jackson', 'MS', 39206),\n",
       " (4, '638 Belvedere Rd', 'Jackson', 'MS', 39206),\n",
       " (5, '732 Lindsey Dr', 'Jackson', 'MS', 39209),\n",
       " (6, '246 Sunny Lane Dr', 'Jackson', 'MS', 39204)]"
      ]
     },
     "execution_count": 59,
     "metadata": {},
     "output_type": "execute_result"
    }
   ],
   "source": [
    "#fetchin data from address_master table\n",
    "cursor.execute('''select * from address_master;''').fetchall()"
   ]
  },
  {
   "cell_type": "code",
   "execution_count": 60,
   "id": "9617ee26",
   "metadata": {},
   "outputs": [],
   "source": [
    "db.commit()"
   ]
  },
  {
   "cell_type": "code",
   "execution_count": 61,
   "id": "3a78e176",
   "metadata": {},
   "outputs": [],
   "source": [
    "cursor.close()\n",
    "db.close()"
   ]
  },
  {
   "cell_type": "code",
   "execution_count": null,
   "id": "d858b805",
   "metadata": {},
   "outputs": [],
   "source": []
  }
 ],
 "metadata": {
  "kernelspec": {
   "display_name": "Python 3 (ipykernel)",
   "language": "python",
   "name": "python3"
  },
  "language_info": {
   "codemirror_mode": {
    "name": "ipython",
    "version": 3
   },
   "file_extension": ".py",
   "mimetype": "text/x-python",
   "name": "python",
   "nbconvert_exporter": "python",
   "pygments_lexer": "ipython3",
   "version": "3.9.6"
  }
 },
 "nbformat": 4,
 "nbformat_minor": 5
}
